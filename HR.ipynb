{
  "nbformat": 4,
  "nbformat_minor": 0,
  "metadata": {
    "colab": {
      "name": "HR.ipynb",
      "provenance": [],
      "authorship_tag": "ABX9TyNwR7g8cX8ChHApeKIIidXR",
      "include_colab_link": true
    },
    "kernelspec": {
      "name": "python3",
      "display_name": "Python 3"
    },
    "language_info": {
      "name": "python"
    }
  },
  "cells": [
    {
      "cell_type": "markdown",
      "metadata": {
        "id": "view-in-github",
        "colab_type": "text"
      },
      "source": [
        "<a href=\"https://colab.research.google.com/github/kunalnagpure/kunal/blob/main/HR.ipynb\" target=\"_parent\"><img src=\"https://colab.research.google.com/assets/colab-badge.svg\" alt=\"Open In Colab\"/></a>"
      ]
    },
    {
      "cell_type": "code",
      "execution_count": 86,
      "metadata": {
        "colab": {
          "base_uri": "https://localhost:8080/"
        },
        "id": "HyfO-uzwifNj",
        "outputId": "5339f45a-7dc3-4b73-d782-d165dba4641c"
      },
      "outputs": [
        {
          "output_type": "stream",
          "name": "stdout",
          "text": [
            "5\n",
            "Harsh\n",
            "20\n",
            "Beria\n",
            "20\n",
            "Varun\n",
            "19\n",
            "Kakunami\n",
            "19\n",
            "Vikas\n",
            "21\n",
            "Beria\n",
            "Harsh\n"
          ]
        }
      ],
      "source": [
        "students = []\n",
        "for i in range(int(input())):\n",
        "    name = input()\n",
        "    score = float(input())\n",
        "    students.append([name,score])\n",
        "\n",
        "grade = []\n",
        "for j in students:\n",
        "  grade.append(j[1])\n",
        "\n",
        "sortedgrade = grade.sort()\n",
        "b = sorted(set(grade))\n",
        "minsecgraed = b[1]\n",
        "\n",
        "stdname = []\n",
        "for i in range(len(students)):\n",
        "    if minsecgraed == students[i][1] :\n",
        "      stdname.append(students[i][0])\n",
        "\n",
        "r = sorted(stdname)\n",
        "for i in r:\n",
        "  print(i)"
      ]
    },
    {
      "cell_type": "code",
      "source": [
        "grade"
      ],
      "metadata": {
        "colab": {
          "base_uri": "https://localhost:8080/"
        },
        "id": "G0Y_neCBi_3X",
        "outputId": "419c2915-ca6c-4aa6-c149-a4c54e59553e"
      },
      "execution_count": 85,
      "outputs": [
        {
          "output_type": "execute_result",
          "data": {
            "text/plain": [
              "[19.0, 19.0, 20.0, 20.0, 21.0]"
            ]
          },
          "metadata": {},
          "execution_count": 85
        }
      ]
    },
    {
      "cell_type": "code",
      "source": [
        "stdname = []\n",
        "for i in range(len(students)):\n",
        "    if minsecgraed == students[i][1] :\n",
        "      stdname.append(students[i][0])\n",
        "\n",
        "r = sorted(stdname)\n",
        "for i in r:\n",
        "  print(i)"
      ],
      "metadata": {
        "id": "GnjMWw4-jmJW"
      },
      "execution_count": 74,
      "outputs": []
    },
    {
      "cell_type": "code",
      "source": [
        ""
      ],
      "metadata": {
        "colab": {
          "base_uri": "https://localhost:8080/"
        },
        "id": "14maNn-0775q",
        "outputId": "c2a86bb3-3792-400a-c286-af23537a4cca"
      },
      "execution_count": 81,
      "outputs": [
        {
          "output_type": "stream",
          "name": "stdout",
          "text": [
            "a\n",
            "kun\n"
          ]
        }
      ]
    },
    {
      "cell_type": "code",
      "source": [
        "for i in students:\n",
        "  print(i[1])"
      ],
      "metadata": {
        "colab": {
          "base_uri": "https://localhost:8080/"
        },
        "id": "itXRp4ggl1xM",
        "outputId": "71080a80-0be1-4f86-c998-f66712cd1841"
      },
      "execution_count": 68,
      "outputs": [
        {
          "output_type": "stream",
          "name": "stdout",
          "text": [
            "33.0\n",
            "30.0\n",
            "33.0\n"
          ]
        }
      ]
    },
    {
      "cell_type": "code",
      "source": [
        "students[1]"
      ],
      "metadata": {
        "colab": {
          "base_uri": "https://localhost:8080/",
          "height": 165
        },
        "id": "J2_A3aYAQgoj",
        "outputId": "e9607896-221b-4474-c0a1-7b383bad9c4e"
      },
      "execution_count": 61,
      "outputs": [
        {
          "output_type": "error",
          "ename": "TypeError",
          "evalue": "ignored",
          "traceback": [
            "\u001b[0;31m---------------------------------------------------------------------------\u001b[0m",
            "\u001b[0;31mTypeError\u001b[0m                                 Traceback (most recent call last)",
            "\u001b[0;32m<ipython-input-61-6fbf137e389d>\u001b[0m in \u001b[0;36m<module>\u001b[0;34m()\u001b[0m\n\u001b[0;32m----> 1\u001b[0;31m \u001b[0mstudents\u001b[0m\u001b[0;34m(\u001b[0m\u001b[0;36m1\u001b[0m\u001b[0;34m[\u001b[0m\u001b[0;36m1\u001b[0m\u001b[0;34m]\u001b[0m\u001b[0;34m)\u001b[0m\u001b[0;34m\u001b[0m\u001b[0;34m\u001b[0m\u001b[0m\n\u001b[0m",
            "\u001b[0;31mTypeError\u001b[0m: 'int' object is not subscriptable"
          ]
        }
      ]
    },
    {
      "cell_type": "code",
      "source": [
        "\n",
        "\n",
        "grade = []\n",
        "for j in students:\n",
        "  grade.append(j[1])\n",
        "\n",
        "sortedgrade = grade.sort()\n",
        "b = sorted(grade)\n",
        "minsecgraed = b[1]\n",
        "\n",
        "for i in range(len(students)):\n",
        "  for j in range(len(students)):\n",
        "    if minsecgraed == students[i][j] :\n",
        "      print(students[i][0])"
      ],
      "metadata": {
        "id": "bJ26qb2rRczZ"
      },
      "execution_count": 23,
      "outputs": []
    },
    {
      "cell_type": "code",
      "source": [
        "b[1]"
      ],
      "metadata": {
        "colab": {
          "base_uri": "https://localhost:8080/"
        },
        "id": "H20K5VcLbABO",
        "outputId": "1be58da8-7c3c-43e1-d201-a3d4e3a2d35b"
      },
      "execution_count": 24,
      "outputs": [
        {
          "output_type": "execute_result",
          "data": {
            "text/plain": [
              "66.0"
            ]
          },
          "metadata": {},
          "execution_count": 24
        }
      ]
    },
    {
      "cell_type": "code",
      "source": [
        "l = [[\"kuna\",12],[\"kun\", 55]]\n",
        "for i in l:\n",
        "  if i[1] == 55:\n",
        "    print(i[0])"
      ],
      "metadata": {
        "colab": {
          "base_uri": "https://localhost:8080/"
        },
        "id": "NM9tXlxhbwkf",
        "outputId": "a2f0f00a-0867-4c5f-e913-96ee63e107d8"
      },
      "execution_count": 52,
      "outputs": [
        {
          "output_type": "stream",
          "name": "stdout",
          "text": [
            "kun\n"
          ]
        }
      ]
    },
    {
      "cell_type": "code",
      "source": [
        "type(minsecgraed)"
      ],
      "metadata": {
        "colab": {
          "base_uri": "https://localhost:8080/"
        },
        "id": "ZNQ9RMbib4HA",
        "outputId": "e8b17a1e-f1f6-4254-aedb-559e5aaa2f40"
      },
      "execution_count": 29,
      "outputs": [
        {
          "output_type": "execute_result",
          "data": {
            "text/plain": [
              "float"
            ]
          },
          "metadata": {},
          "execution_count": 29
        }
      ]
    },
    {
      "cell_type": "code",
      "source": [
        ""
      ],
      "metadata": {
        "colab": {
          "base_uri": "https://localhost:8080/"
        },
        "id": "dvEIzV6Cb85G",
        "outputId": "6af152aa-b779-4cc5-f0b7-3d9c34daf184"
      },
      "execution_count": 39,
      "outputs": [
        {
          "output_type": "stream",
          "name": "stdout",
          "text": [
            "kunal\n"
          ]
        }
      ]
    },
    {
      "cell_type": "code",
      "source": [
        "students[i][j]"
      ],
      "metadata": {
        "colab": {
          "base_uri": "https://localhost:8080/",
          "height": 165
        },
        "id": "xCgeHkDllRjw",
        "outputId": "61e3f580-c1e5-4e47-bfd0-4942c4969699"
      },
      "execution_count": 36,
      "outputs": [
        {
          "output_type": "error",
          "ename": "TypeError",
          "evalue": "ignored",
          "traceback": [
            "\u001b[0;31m---------------------------------------------------------------------------\u001b[0m",
            "\u001b[0;31mTypeError\u001b[0m                                 Traceback (most recent call last)",
            "\u001b[0;32m<ipython-input-36-f5a534e47f4c>\u001b[0m in \u001b[0;36m<module>\u001b[0;34m()\u001b[0m\n\u001b[0;32m----> 1\u001b[0;31m \u001b[0mstudents\u001b[0m\u001b[0;34m[\u001b[0m\u001b[0mi\u001b[0m\u001b[0;34m]\u001b[0m\u001b[0;34m[\u001b[0m\u001b[0mj\u001b[0m\u001b[0;34m]\u001b[0m\u001b[0;34m\u001b[0m\u001b[0;34m\u001b[0m\u001b[0m\n\u001b[0m",
            "\u001b[0;31mTypeError\u001b[0m: list indices must be integers or slices, not list"
          ]
        }
      ]
    },
    {
      "cell_type": "code",
      "source": [
        ""
      ],
      "metadata": {
        "id": "_x2VRSnynFF9"
      },
      "execution_count": null,
      "outputs": []
    }
  ]
}